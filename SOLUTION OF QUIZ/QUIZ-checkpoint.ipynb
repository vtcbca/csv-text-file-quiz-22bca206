{
 "cells": [
  {
   "cell_type": "markdown",
   "id": "cc15778c",
   "metadata": {},
   "source": [
    "### 8.  Create Contact.csv file which contain name,contact. Use \"|\" as Delimiter.\n",
    "### Search particular contact by entering person name . "
   ]
  },
  {
   "cell_type": "code",
   "execution_count": 1,
   "id": "821cfc5f",
   "metadata": {},
   "outputs": [],
   "source": [
    "import csv"
   ]
  },
  {
   "cell_type": "code",
   "execution_count": 29,
   "id": "93360fb5",
   "metadata": {},
   "outputs": [],
   "source": [
    "with open(\"C://22BCA206//python//contact_file.csv\",'w',newline='') as fileobj:\n",
    "    obj=csv.writer(fileobj)\n",
    "    field=['NAME','CONTACT NUMBER']\n",
    "    obj.writerow(field)\n",
    "    # 5 records insert directly\n",
    "    records=[['Jay',9923456786],['Shree',9923356796],['Ram',6323456786],['Shiv',7923456786],['Krishna',6683456786]]\n",
    "    obj.writerows(records)"
   ]
  },
  {
   "cell_type": "code",
   "execution_count": 30,
   "id": "b7e60f36",
   "metadata": {},
   "outputs": [
    {
     "name": "stdout",
     "output_type": "stream",
     "text": [
      "   NAME    CONTACT NUMBER\n",
      "   Jay     9923456786\n",
      "  Shree    9923356796\n",
      "   Ram     6323456786\n",
      "   Shiv    7923456786\n",
      " Krishna   6683456786\n"
     ]
    }
   ],
   "source": [
    "with open(\"C://22BCA206//python//contact_file.csv\",'r',newline='') as ob:\n",
    "    data=csv.reader(ob)\n",
    "    for i in data:\n",
    "        print(\"{:^10} {:^10}\".format(i[0],i[1]))\n",
    "   "
   ]
  },
  {
   "cell_type": "code",
   "execution_count": 31,
   "id": "11e5a5d5",
   "metadata": {},
   "outputs": [
    {
     "name": "stdout",
     "output_type": "stream",
     "text": [
      "Enter Name Whose Record You Want :Ram\n",
      "\n",
      "\n",
      "--------------------------------------------------\n",
      "\n",
      "\t\t SEARCHED REACORD\n",
      "--------------------------------------------------\n",
      "   NAME    CONTACT NUMBER\n",
      "   Ram     6323456786\n"
     ]
    }
   ],
   "source": [
    "with open(\"C://22BCA206//python//contact_file.csv\",'r',newline='') as o:\n",
    "    heading=next(o)\n",
    "    data=csv.reader(o)\n",
    "    name=input('Enter Name Whose Record You Want :')\n",
    "    print('\\n\\n--------------------------------------------------')\n",
    "    print('\\n\\t\\t SEARCHED REACORD\\n--------------------------------------------------')\n",
    "    print(\"{:^10} {:^10}\".format('NAME','CONTACT NUMBER'))\n",
    "    for re in data:\n",
    "        if re[0]==name:\n",
    "             print(\"{:^10} {:^10}\".format(re[0],re[1]))"
   ]
  },
  {
   "cell_type": "code",
   "execution_count": null,
   "id": "81a186b3",
   "metadata": {},
   "outputs": [],
   "source": []
  },
  {
   "cell_type": "code",
   "execution_count": null,
   "id": "013c9987",
   "metadata": {},
   "outputs": [],
   "source": []
  },
  {
   "cell_type": "code",
   "execution_count": null,
   "id": "8fddcc15",
   "metadata": {},
   "outputs": [],
   "source": []
  }
 ],
 "metadata": {
  "kernelspec": {
   "display_name": "Python 3 (ipykernel)",
   "language": "python",
   "name": "python3"
  },
  "language_info": {
   "codemirror_mode": {
    "name": "ipython",
    "version": 3
   },
   "file_extension": ".py",
   "mimetype": "text/x-python",
   "name": "python",
   "nbconvert_exporter": "python",
   "pygments_lexer": "ipython3",
   "version": "3.9.6"
  }
 },
 "nbformat": 4,
 "nbformat_minor": 5
}
